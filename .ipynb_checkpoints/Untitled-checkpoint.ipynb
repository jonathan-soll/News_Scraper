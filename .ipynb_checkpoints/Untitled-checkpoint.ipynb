{
 "cells": [
  {
   "cell_type": "code",
   "execution_count": 1,
   "metadata": {
    "collapsed": true
   },
   "outputs": [],
   "source": [
    "from bs4 import BeautifulSoup\n",
    "import requests\n",
    "import re"
   ]
  },
  {
   "cell_type": "code",
   "execution_count": 14,
   "metadata": {
    "collapsed": true
   },
   "outputs": [],
   "source": [
    "def scrape():\n",
    "    \n",
    "    url = 'https://seekingalpha.com/market-news/all'\n",
    "    r = requests.get(url)\n",
    "    \n",
    "    soup = BeautifulSoup(r.text, \"html.parser\")\n",
    "    all_tickers = soup.find_all('li', attrs = {'class' : 'mc'}) \n",
    "    \n",
    "    l = []\n",
    "    for ticker in all_tickers:\n",
    "        mydict = {}\n",
    "        symbol_content = ticker.find('a', attrs={'sasource': 'ticker_mc_quote'})\n",
    "\n",
    "        if symbol_content != None:\n",
    "            symbol = symbol_content.text\n",
    "            title = ticker.find_all('div', attrs= {'class' : 'title'})[0].text\n",
    "            date = ticker.find('span', attrs= {'class' : 'item-date'}).text\n",
    "    #         print(date + ': ' + symbol + ' - ' + title)\n",
    "    #         print('')\n",
    "\n",
    "            mydict['date'] = date\n",
    "            mydict['symbol'] = symbol\n",
    "            mydict['title'] = title\n",
    "\n",
    "        l.append(mydict)\n",
    "\n",
    "    return l"
   ]
  },
  {
   "cell_type": "code",
   "execution_count": 16,
   "metadata": {
    "scrolled": false
   },
   "outputs": [
    {
     "name": "stdout",
     "output_type": "stream",
     "text": [
      "[{'date': 'Today, 7:02 PM', 'symbol': 'ZN', 'title': 'Zion Oil confirms active petroleum system in Megiddo-Jezreel well'}, {'date': 'Today, 6:17 PM', 'symbol': 'TRP', 'title': 'Path uncertain for Keystone XL pipeline after new court setback'}, {'date': 'Today, 6:00 PM', 'symbol': 'CALB', 'title': 'California Bancorp completes private offering of common stock'}, {}, {'date': 'Today, 5:58 PM', 'symbol': 'BAYRY', 'title': \"Glyphosate ban would be 'disaster' for Brazil agriculture, minister says\"}, {'date': 'Today, 5:47 PM', 'symbol': 'CNTE', 'title': 'Contura, Alpha Natural push back merger closing to early to mid Q4'}, {'date': 'Today, 5:43 PM', 'symbol': 'ZOES', 'title': \"Zoe's Kitchen -3.8% as it postpones earnings release\"}, {'date': 'Today, 5:41 PM', 'symbol': 'PMULF', 'title': 'Pure Multi-Family REIT LP declares $0.03125 dividend'}, {'date': 'Today, 5:38 PM', 'symbol': 'TIK', 'title': 'After Hours Gainers / Losers (08/16/2018)'}, {'date': 'Today, 5:30 PM', 'symbol': 'DE', 'title': 'Notable earnings before Friday’s open'}, {'date': 'Today, 5:29 PM', 'symbol': 'FMBL', 'title': 'Farmers & Merchants Bank of Long Beach declares $23.00 dividend'}, {'date': 'Today, 5:28 PM', 'symbol': 'ADOM', 'title': 'Adomani -8.3% after $100M mixed shelf filing'}, {'date': 'Today, 5:24 PM', 'symbol': 'NRTHF', 'title': 'Northern Power Systems reports Q2 results'}, {'date': 'Today, 5:20 PM', 'symbol': 'AVLR', 'title': 'Avalara: category winner in tax compliance software - Goldman'}, {'date': 'Today, 5:19 PM', 'symbol': 'KOSS', 'title': 'Koss reports Q4 results'}, {'date': 'Today, 5:15 PM', 'symbol': 'WMIH', 'title': 'WMIH board approves 1-for-12 reverse stock split'}, {'date': 'Today, 5:14 PM', 'symbol': 'INTX', 'title': 'Intersections reports preliminary Q2 results'}, {'date': 'Today, 5:14 PM', 'symbol': 'LCII', 'title': 'LCI declares $0.60 dividend'}, {'date': 'Today, 5:10 PM', 'symbol': 'JLL', 'title': 'JLL Income Property Trust reports Q2 total net return of 1.55%'}, {}, {'date': 'Today, 5:09 PM', 'symbol': 'ATAI', 'title': 'ATA to acquire Beijing Biztour for RMB50M'}, {'date': 'Today, 5:05 PM', 'symbol': 'SQIDF', 'title': 'SQI Diagnostics reports Q3 results'}, {'date': 'Today, 5:04 PM', 'symbol': 'CRMT', 'title': \"America's Car-Mart beats by $0.25, beats on revenue\"}, {'date': 'Today, 5:02 PM', 'symbol': 'SIX', 'title': 'Six Flags declares $0.78 dividend'}, {'date': 'Today, 5:02 PM', 'symbol': 'PH', 'title': 'Parker-Hannifin declares $0.76 dividend'}, {'date': 'Today, 5:00 PM', 'symbol': 'VJET', 'title': 'Voxeljet -9.3% after Q2 misses'}, {}, {}, {'date': 'Today, 4:59 PM', 'symbol': 'ESALY', 'title': \"FDA OKs Eisai's Lenvima for first line liver cancer\"}, {'date': 'Today, 4:58 PM', 'symbol': 'CMG', 'title': \"Chipotle's latest outbreak caused by food-borne bacteria, health officials say\"}, {'date': 'Today, 4:56 PM', 'symbol': 'MET', 'title': 'MetLife, State Street ink $2B commercial mortgage co-lending pact'}, {'date': 'Today, 4:53 PM', 'symbol': 'VNET', 'title': 'Data-center firm 21Vianet -5.4% after Q2 miss'}, {'date': 'Today, 4:50 PM', 'symbol': 'SCMWY', 'title': 'SwissCom reports 1H results'}, {'date': 'Today, 4:48 PM', 'symbol': 'CNNE', 'title': 'Cannae Holdings director Richard Massey buys 39,00 shares'}, {'date': 'Today, 4:40 PM', 'symbol': 'MITT.PB', 'title': 'AG Mortgage Investment Trust Inc Cum Red Pfd Shs Series B declares $0.50 dividend'}, {'date': 'Today, 4:39 PM', 'symbol': 'JWN', 'title': 'Nordstrom +12% after strong Q2 beat, raises full-year guidance'}, {'date': 'Today, 4:39 PM', 'symbol': 'AGRO', 'title': 'Adecoagro beats on revenue'}, {'date': 'Today, 4:39 PM', 'symbol': 'NVDA', 'title': 'Nvidia -5% on downside guide, crypto-related OEM revenue drop'}, {'date': 'Today, 4:35 PM', 'symbol': 'IHT', 'title': 'InnSuites Hospitality Trust to sell IBC Hotels unit'}, {'date': 'Today, 4:34 PM', 'symbol': 'KSU', 'title': 'Kansas City Southern declares $0.36 dividend'}, {'date': 'Today, 4:34 PM', 'symbol': 'VNET', 'title': '21Vianet Group misses by $0.01, misses on revenue'}, {'date': 'Today, 4:33 PM', 'symbol': 'KSU.P', 'title': 'Kansas City Southern 4 % Pfd Shs declares $0.25 dividend'}, {'date': 'Today, 4:33 PM', 'symbol': 'REDU', 'title': 'RISE Education beats on revenue'}, {'date': 'Today, 4:32 PM', 'symbol': 'MPW', 'title': 'Medical Properties declares $0.25 dividend'}, {'date': 'Today, 4:32 PM', 'symbol': 'PURE', 'title': 'PURE Bio secures $1.5M capital raise'}, {'date': 'Today, 4:32 PM', 'symbol': 'HUM', 'title': 'Humana declares $0.50 dividend'}, {'date': 'Today, 4:31 PM', 'symbol': 'NVDA', 'title': 'Nvidia declares $0.15 dividend'}, {'date': 'Today, 4:30 PM', 'symbol': 'MITT.PA', 'title': 'AG Mortgage Investment Trust Inc Cum Red Pfd Shs Series A declares $0.51563 dividend'}, {'date': 'Today, 4:29 PM', 'symbol': 'ABIL', 'title': 'Ability Inc. announces closing of registered direct offering'}, {'date': 'Today, 4:23 PM', 'symbol': 'HF', 'title': 'HFF reports $503M refinancing for three hotels'}, {'date': 'Today, 4:23 PM', 'symbol': 'HAIR', 'title': 'Underwriters all in on Restoration Robotics equity offering'}, {'date': 'Today, 4:23 PM', 'symbol': 'TSLA', 'title': \"WSJ: SEC probing Musk's communication with board\"}, {'date': 'Today, 4:21 PM', 'symbol': 'NVDA', 'title': 'Nvidia beats by $0.10, beats on revenue'}, {'date': 'Today, 4:21 PM', 'symbol': 'VJET', 'title': 'Voxeljet AG misses by €0.09, misses on revenue'}, {'date': 'Today, 4:20 PM', 'symbol': 'PFNX', 'title': 'Pfenex medical chief bids adieu'}, {'date': 'Today, 4:18 PM', 'symbol': 'PBR', 'title': 'Petrobras may not sell Braskem share, could add to stake, CFO says'}, {'date': 'Today, 4:18 PM', 'symbol': 'CXW', 'title': 'Corecivic declares $0.43 dividend'}, {'date': 'Today, 4:18 PM', 'symbol': 'CRI', 'title': \"Carter's declares $0.45 dividend\"}, {'date': 'Today, 4:18 PM', 'symbol': 'AMAT', 'title': 'AMAT -3.5% on Q3 report with downside guide, near-term customer spend warning'}, {'date': 'Today, 4:17 PM', 'symbol': 'EDIT', 'title': 'Editas closer to start of clinical development of gene therapy for LCA10, IND in October'}, {'date': 'Today, 4:14 PM', 'symbol': 'BOXL', 'title': 'Boxlight beats by $0.01, beats on revenue'}, {'date': 'Today, 4:12 PM', 'symbol': 'ATAI', 'title': 'ATA reports Q2 results'}, {'date': 'Today, 4:10 PM', 'symbol': 'ATGE', 'title': 'Adtalem Global Education misses by $0.05, misses on revenue'}, {'date': 'Today, 4:09 PM', 'symbol': 'MBIN', 'title': 'Merchants Bancorp declares $0.06 dividend'}, {'date': 'Today, 4:09 PM', 'symbol': 'CHMG', 'title': 'Chemung Financial declares $0.26 dividend'}, {'date': 'Today, 4:08 PM', 'symbol': 'HD', 'title': 'Home Depot declares $1.03 dividend'}, {'date': 'Today, 4:08 PM', 'symbol': 'JWN', 'title': 'Nordstrom beats by $0.11, beats on revenue'}, {'date': 'Today, 4:08 PM', 'symbol': 'JCS', 'title': 'Communications Systems declares $0.04 dividend'}, {'date': 'Today, 4:07 PM', 'symbol': 'ARAY', 'title': 'Accuray beats by $0.01, beats on revenue'}, {'date': 'Today, 4:06 PM', 'symbol': 'ESRX', 'title': 'Express Scripts \"reminds\" shareholders to back Cigna merger'}, {'date': 'Today, 4:05 PM', 'symbol': 'WLFC', 'title': 'Willis Lease Finance says $373.4M of fixed-rate notes price'}, {'date': 'Today, 4:02 PM', 'symbol': 'AMAT', 'title': 'Applied Materials beats by $0.03, beats on revenue'}, {}, {'date': 'Today, 3:58 PM', 'symbol': 'TGE', 'title': 'Tallgrass launches open season for proposed Seahorse crude pipeline'}, {'date': 'Today, 3:56 PM', 'symbol': 'TLSYY', 'title': 'Telstra upgraded to Buy at HSBC'}]\n"
     ]
    }
   ],
   "source": [
    "if __name__ == \"__main__\":\n",
    "    print(scrape())"
   ]
  },
  {
   "cell_type": "code",
   "execution_count": null,
   "metadata": {
    "collapsed": true
   },
   "outputs": [],
   "source": []
  }
 ],
 "metadata": {
  "kernelspec": {
   "display_name": "news_scraper",
   "language": "python",
   "name": "news_scraper"
  },
  "language_info": {
   "codemirror_mode": {
    "name": "ipython",
    "version": 3
   },
   "file_extension": ".py",
   "mimetype": "text/x-python",
   "name": "python",
   "nbconvert_exporter": "python",
   "pygments_lexer": "ipython3",
   "version": "3.6.6"
  }
 },
 "nbformat": 4,
 "nbformat_minor": 2
}
